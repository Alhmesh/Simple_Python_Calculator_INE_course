{
  "nbformat": 4,
  "nbformat_minor": 0,
  "metadata": {
    "colab": {
      "provenance": [],
      "authorship_tag": "ABX9TyM+2sI1l//B3gA/+uG4SgEY"
    },
    "kernelspec": {
      "name": "python3",
      "display_name": "Python 3"
    },
    "language_info": {
      "name": "python"
    }
  },
  "cells": [
    {
      "cell_type": "code",
      "execution_count": 1,
      "metadata": {
        "id": "QXIB8DfEnKRW"
      },
      "outputs": [],
      "source": [
        "# Note: this exercise is for the INE Course and is required to complete the functions below.\n",
        "def add(x, y):\n",
        "    return x + y\n",
        "\n",
        "\n",
        "def subtract(x, y):\n",
        "    return x - y\n",
        "\n",
        "\n",
        "def divide(x, y):\n",
        "    if x==0 or y==0:\n",
        "        return \"Invalid value for denominator, cant't divide by 0!\"\n",
        "    else:\n",
        "      return x / y\n",
        "\n",
        "\n",
        "def multiply(x, y):\n",
        "    return x * y\n",
        "\n",
        "\n",
        "def square(x):\n",
        "    return x * x\n",
        "\n",
        "\n",
        "def power(x, y):\n",
        "    return x ** y\n",
        "\n",
        "\n",
        "def sqrt(x):\n",
        "    return x ** 0.5\n",
        "\n"
      ]
    }
  ]
}